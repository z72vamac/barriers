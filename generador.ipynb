{
 "cells": [
  {
   "cell_type": "code",
   "execution_count": 107,
   "id": "5c760b13",
   "metadata": {},
   "outputs": [],
   "source": [
    "import matplotlib.pyplot as plt\n",
    "import numpy as np\n",
    "from scipy.spatial import Delaunay\n",
    "import networkx as nx\n",
    "from neighborhood import Circle\n",
    "from matplotlib.patches import Circle"
   ]
  },
  {
   "cell_type": "code",
   "execution_count": 120,
   "id": "a315a284",
   "metadata": {},
   "outputs": [],
   "source": [
    "def no_cortan(barrier1, barrier2):\n",
    "    det1 = (barrier1[0][0] - barrier2[0][0])*(barrier1[1][1] - barrier2[0][1]) - (barrier1[1][0] - barrier2[0][0])*(barrier1[0][1] - barrier2[0][1])\n",
    "    det2 = (barrier1[0][0] - barrier2[1][0])*(barrier1[1][1] - barrier2[1][1]) - (barrier1[1][0] - barrier2[1][0])*(barrier1[0][1] - barrier2[1][1])\n",
    "    \n",
    "    det3 = (barrier2[0][0] - barrier1[0][0])*(barrier2[1][1] - barrier1[0][1]) - (barrier2[1][0] - barrier1[0][0])*(barrier2[0][1] - barrier1[0][1])\n",
    "    det4 = (barrier2[0][0] - barrier1[1][0])*(barrier2[1][1] - barrier1[1][1]) - (barrier2[1][0] - barrier1[1][0])*(barrier2[0][1] - barrier1[1][1])\n",
    "\n",
    "    return (det1*det2 >= 0) or (det3*det4 >= 0)\n",
    "\n",
    "def cortan(barrier1, barrier2):\n",
    "    return not(no_cortan(barrier1, barrier2))\n",
    "\n",
    "def divide_segment(barrier):\n",
    "    A = np.array(barrier[0])\n",
    "    B = np.array(barrier[1])\n",
    "\n",
    "    M = (A+B)/ 2\n",
    "    \n",
    "    return np.array([B, M])\n",
    "\n",
    "def ve(punto, segmento):\n",
    "    barrera1 = [punto, segmento[0]]\n",
    "    flag1 = all([no_cortan(barrera1, barrera) for barrera in segments])\n",
    "    barrera2 = [punto, segmento[1]]\n",
    "    flag2 = all([no_cortan(barrera2, barrera) for barrera in segments])\n",
    "\n",
    "    return flag1 | flag2\n",
    "\n",
    "def interseccion_long(punto, segmento):\n",
    "    \n",
    "    B1 = np.array(segmento[0])\n",
    "    B2 = np.array(segmento[1])\n",
    "    \n",
    "    dr = B2 - B1\n",
    "    nr = np.array([-dr[1], dr[0]])\n",
    "    \n",
    "    nr_u = nr / np.linalg.norm(nr)\n",
    "    \n",
    "    A = nr_u[0]\n",
    "    B = nr_u[1]\n",
    "    C = -A*B1[0] - B*B1[1]\n",
    "    \n",
    "    # r : Ax + By + C = 0\n",
    "\n",
    "    # Sustituyendo: A*(punto[0] + landa*nr_u[0]) + B*(punto[1] + landa*nr_u[1]) + C = 0\n",
    "    \n",
    "    # landa(A*nr_u[0] + B*nr_u[1]) = -C - A*punto[0] - B*punto[1]\n",
    "    \n",
    "    # landa = (-C - A*punto[0] - B*punto[1])/(A*nr_u[0] + B*nr_u[1])\n",
    "    P = punto + (-C-A*punto[0] - B*punto[1])/(A*nr_u[0] + B*nr_u[1])*nr_u\n",
    "    \n",
    "    landa1 = (np.linalg.norm(P-B1))/(np.linalg.norm(B1-B2))\n",
    "    landa2 = (np.linalg.norm(P-B2))/(np.linalg.norm(B1-B2))\n",
    "    \n",
    "    long = min(landa1, landa2)*np.linalg.norm(dr)\n",
    "    return long\n",
    "\n",
    "def d_PB(punto, segmento):\n",
    "    \n",
    "    B1 = np.array(segmento[0])\n",
    "    B2 = np.array(segmento[1])\n",
    "    dr = B2 - B1\n",
    "    A = -dr[1]\n",
    "    B = dr[0]\n",
    "    C = -A*B1[0] - B*B1[1]\n",
    "    \n",
    "    return np.abs(A*punto[0] + B*punto[1] + C)/np.sqrt(A**2 + B**2)"
   ]
  },
  {
   "cell_type": "code",
   "execution_count": 125,
   "id": "8bed17df",
   "metadata": {},
   "outputs": [],
   "source": [
    "np.random.seed(2)\n",
    "\n",
    "nS = 100\n",
    "\n",
    "nP = 50\n",
    "\n",
    "V = np.random.uniform(0, 100, (nP, 2))\n",
    "\n",
    "\n",
    "segments = []\n",
    "Circles = []\n",
    "\n",
    "# while (nS >= 0):\n",
    "#     new_segment = np.random.uniform(0, 100, (2, 2))\n",
    "#     A = np.array(new_segment[0][:])\n",
    "#     B = np.array(new_segment[1][:])\n",
    "    \n",
    "#     r = np.linalg.norm(A - B)\n",
    "    \n",
    "#     if r <= 20 and r >= 5:\n",
    "#         for segment in segments:\n",
    "#             while cortan(new_segment, segment):\n",
    "#                 new_segment = divide_segment(new_segment)\n",
    "\n",
    "\n",
    "#         segments.append(new_segment)\n",
    "#         nS -= 1    \n",
    "\n",
    "for v in V:\n",
    "    r_min = min([interseccion_long(v, barrera) for barrera in segments if ve(v, barrera)])\n",
    "    upper_bound = min(r_min, min([d_PB(v, barrera) for barrera in segments]))\n",
    "    radii = np.random.uniform(upper_bound, upper_bound)\n",
    "    Circles.append(Circle(center = v, radii = radii))\n",
    "#     bolas.append([v[0], v[1], radii])\n",
    "# r = 0\n",
    "# radii = np.random.uniform(r*5, (r+1)*5, nP)\n",
    "# Circles = [Circle(center = [V[i][0], V[i][1]], radii = radii[i]) for i in range(nP)]"
   ]
  },
  {
   "cell_type": "code",
   "execution_count": 126,
   "id": "b3ec0552",
   "metadata": {},
   "outputs": [
    {
     "data": {
      "image/png": "[encoded data removed]",
      "text/plain": [
       "<Figure size 432x288 with 1 Axes>"
      ]
     },
     "metadata": {
      "needs_background": "light"
     },
     "output_type": "display_data"
    }
   ],
   "source": [
    "fig, ax = plt.subplots()\n",
    "plt.axis([0, 100, 0, 100])\n",
    "ax.set_aspect('equal')\n",
    "\n",
    "for segment in segments:\n",
    "    ax.plot([segment[0][0], segment[1][0]], [segment[0][1], segment[1][1]], c = 'blue')\n",
    "    \n",
    "for Circle in Circles:\n",
    "    ax.add_artist(Circle.figura)"
   ]
  },
  {
   "cell_type": "code",
   "execution_count": null,
   "id": "b3c47635",
   "metadata": {},
   "outputs": [],
   "source": []
  },
  {
   "cell_type": "code",
   "execution_count": null,
   "id": "e24165b1",
   "metadata": {},
   "outputs": [],
   "source": []
  }
 ],
 "metadata": {
  "kernelspec": {
   "display_name": "Python 3 (ipykernel)",
   "language": "python",
   "name": "python3"
  },
  "language_info": {
   "codemirror_mode": {
    "name": "ipython",
    "version": 3
   },
   "file_extension": ".py",
   "mimetype": "text/x-python",
   "name": "python",
   "nbconvert_exporter": "python",
   "pygments_lexer": "ipython3",
   "version": "3.9.2"
  }
 },
 "nbformat": 4,
 "nbformat_minor": 5
}
